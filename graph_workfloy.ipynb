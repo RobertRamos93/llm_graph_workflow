{
 "cells": [
  {
   "cell_type": "markdown",
   "id": "8b57098e",
   "metadata": {},
   "source": [
    "# Hello World Agent\n",
    "Our first LangGraph graph!"
   ]
  },
  {
   "cell_type": "code",
   "execution_count": 2,
   "id": "78796e04",
   "metadata": {},
   "outputs": [],
   "source": [
    "from typing import Dict, TypedDict\n",
    "from langgraph.graph import StateGraph"
   ]
  },
  {
   "cell_type": "code",
   "execution_count": 42,
   "id": "54b63366",
   "metadata": {},
   "outputs": [],
   "source": [
    "class AgentState(TypedDict):\n",
    "    message: str\n",
    "\n",
    "def greeting_node(state: AgentState) -> AgentState:\n",
    "    \"\"\"Simple node that adds a greeting message to the state\"\"\"\n",
    "\n",
    "    state[\"message\"] = f\"Hey {state[\"message\"]}, how is your day going?\"\n",
    "    return state"
   ]
  },
  {
   "cell_type": "code",
   "execution_count": 43,
   "id": "6b494a42",
   "metadata": {},
   "outputs": [],
   "source": [
    "graph = StateGraph(AgentState)\n",
    "\n",
    "graph.add_node(\"greeter\", greeting_node)\n",
    "\n",
    "graph.set_entry_point(\"greeter\")\n",
    "graph.set_finish_point(\"greeter\")\n",
    "\n",
    "app = graph.compile()"
   ]
  },
  {
   "cell_type": "code",
   "execution_count": 6,
   "id": "06688529",
   "metadata": {},
   "outputs": [
    {
     "data": {
      "image/png": "[encoded data removed]",
      "text/plain": [
       "<IPython.core.display.Image object>"
      ]
     },
     "metadata": {},
     "output_type": "display_data"
    }
   ],
   "source": [
    "from IPython.display import Image, display\n",
    "display(Image(app.get_graph().draw_mermaid_png()))"
   ]
  },
  {
   "cell_type": "code",
   "execution_count": 44,
   "id": "319dd02f",
   "metadata": {},
   "outputs": [],
   "source": [
    "result = app.invoke({\"message\": \"Bob\"})"
   ]
  },
  {
   "cell_type": "code",
   "execution_count": 45,
   "id": "5c3b5585",
   "metadata": {},
   "outputs": [
    {
     "data": {
      "text/plain": [
       "'Hey Bob, how is your day going?'"
      ]
     },
     "execution_count": 45,
     "metadata": {},
     "output_type": "execute_result"
    }
   ],
   "source": [
    "result[\"message\"]"
   ]
  },
  {
   "cell_type": "markdown",
   "id": "82f07b69",
   "metadata": {},
   "source": [
    "# Exercise for Graph I\n",
    "* Your task: Create a **Personalized Compliment Agent** using Langgraph!\n",
    "\n",
    "**Input**: {\"name\": \"Bob\"}\n",
    "\n",
    "**Output** \"Bob, you're doing an amazing job learning LangGraph!\"\n",
    "\n",
    "*Hint*: You have to concatenate the state, not replace it!"
   ]
  },
  {
   "cell_type": "code",
   "execution_count": 9,
   "id": "aac1b631",
   "metadata": {},
   "outputs": [],
   "source": [
    "from typing import Dict, TypedDict\n",
    "from langgraph.graph import StateGraph\n",
    "\n",
    "class ExerciseOneGraphState(TypedDict):\n",
    "    name: str"
   ]
  },
  {
   "cell_type": "code",
   "execution_count": 10,
   "id": "b4af13b8",
   "metadata": {},
   "outputs": [],
   "source": [
    "def personalized_compliment(state: ExerciseOneGraphState) -> ExerciseOneGraphState:\n",
    "    \"\"\"Creates a personalized compliment agent.\"\"\"\n",
    "\n",
    "    state[\"name\"] = f\"Hey {state[\"name\"]}, you're doing an amazing job learning Langgraph!\"\n",
    "    return state"
   ]
  },
  {
   "cell_type": "code",
   "execution_count": 11,
   "id": "2e5503b4",
   "metadata": {},
   "outputs": [],
   "source": [
    "graph = StateGraph(ExerciseOneGraphState)\n",
    "\n",
    "graph.add_node(\"compliment\", personalized_compliment)\n",
    "\n",
    "graph.set_entry_point(\"compliment\")\n",
    "graph.set_finish_point(\"compliment\")\n",
    "\n",
    "app = graph.compile()"
   ]
  },
  {
   "cell_type": "code",
   "execution_count": 4,
   "id": "c010f3f6",
   "metadata": {},
   "outputs": [
    {
     "data": {
      "image/png": "[encoded data removed]",
      "text/plain": [
       "<IPython.core.display.Image object>"
      ]
     },
     "metadata": {},
     "output_type": "display_data"
    }
   ],
   "source": [
    "from IPython.display import Image, display\n",
    "display(Image(app.get_graph().draw_mermaid_png()))"
   ]
  },
  {
   "cell_type": "code",
   "execution_count": 12,
   "id": "a1a129b9",
   "metadata": {},
   "outputs": [],
   "source": [
    "result = app.invoke({\"name\": \"Roberto\"})\n",
    "# # result = app.invoke({\"name\": \"Bob\"})\n",
    "# result = app.invoke({\"name\": \"Bob\"})"
   ]
  },
  {
   "cell_type": "code",
   "execution_count": 14,
   "id": "5e0616d0",
   "metadata": {},
   "outputs": [
    {
     "data": {
      "text/plain": [
       "\"Hey Roberto, you're doing an amazing job learning Langgraph!\""
      ]
     },
     "execution_count": 14,
     "metadata": {},
     "output_type": "execute_result"
    }
   ],
   "source": [
    "result[\"name\"]"
   ]
  },
  {
   "cell_type": "markdown",
   "id": "9ac90703",
   "metadata": {},
   "source": [
    "# Example 2"
   ]
  },
  {
   "cell_type": "code",
   "execution_count": 16,
   "id": "96c50ceb",
   "metadata": {},
   "outputs": [],
   "source": [
    "from typing import TypedDict, List\n",
    "from langgraph.graph import StateGraph"
   ]
  },
  {
   "cell_type": "code",
   "execution_count": 17,
   "id": "cba37f99",
   "metadata": {},
   "outputs": [],
   "source": [
    "class AgentState(TypedDict):\n",
    "    values: List[int]\n",
    "    name: str\n",
    "    result: str"
   ]
  },
  {
   "cell_type": "code",
   "execution_count": 28,
   "id": "d4ed6eff",
   "metadata": {},
   "outputs": [],
   "source": [
    "def process_values(state: AgentState) -> AgentState:\n",
    "    \"\"\"This function handles multiple different inputs.\"\"\"\n",
    "\n",
    "    print(state)\n",
    "    state[\"result\"] = f\"Hi there {state[\"name\"]}! Your sum = {sum(state[\"values\"])}\"\n",
    "    print(state)\n",
    "    return state"
   ]
  },
  {
   "cell_type": "code",
   "execution_count": 29,
   "id": "9a8a4ea4",
   "metadata": {},
   "outputs": [],
   "source": [
    "graph = StateGraph(AgentState)\n",
    "\n",
    "graph.add_node(\"processor\", process_values)\n",
    "graph.set_entry_point(\"processor\")\n",
    "graph.set_finish_point(\"processor\")\n",
    "\n",
    "app = graph.compile()"
   ]
  },
  {
   "cell_type": "code",
   "execution_count": 30,
   "id": "70c45463",
   "metadata": {},
   "outputs": [
    {
     "name": "stdout",
     "output_type": "stream",
     "text": [
      "{'values': [1, 2, 3, 4], 'name': 'Steve'}\n",
      "{'values': [1, 2, 3, 4], 'name': 'Steve', 'result': 'Hi there Steve! Your sum = 10'}\n",
      "{'values': [1, 2, 3, 4], 'name': 'Steve', 'result': 'Hi there Steve! Your sum = 10'}\n"
     ]
    }
   ],
   "source": [
    "answer = app.invoke({\"values\": [1, 2, 3, 4],\n",
    "                     \"name\": \"Steve\"}\n",
    "                     )\n",
    "\n",
    "print(answer)\n",
    "\n",
    "\n"
   ]
  },
  {
   "cell_type": "markdown",
   "id": "cfb9478a",
   "metadata": {},
   "source": [
    "# Exercise 2\n",
    "\n",
    "**Your task**: \n",
    "\n",
    "Create **Graph** where you pass in a single list of integers along with a name and an operation. If the operation is a \"+\", you **add** the elements and if it is a \"*\", you **multiply** the elements, **all within the same node**.\n",
    "\n",
    "**Input**: {\"name\": \"Jack Sparrow\", \"values\": [1, 2, 3, 4], \"operation\": \"*\"}\n",
    "**Output**: \"Hi Jack Sparrow, your answer is: 24\"\n",
    "\n",
    "*Hint*: You need an if-statement in your node!."
   ]
  },
  {
   "cell_type": "code",
   "execution_count": 9,
   "id": "92751ddb",
   "metadata": {},
   "outputs": [],
   "source": [
    "from pydantic import BaseModel, Field\n",
    "from typing import List, Literal\n",
    "from langgraph.graph import StateGraph\n",
    "\n",
    "class ExerciseTwoState(BaseModel):\n",
    "    name: str = Field(description=\"The name of the person\")\n",
    "    values: List[int] = Field(description=\"List of values for the operation\")\n",
    "    operation: Literal[\"+\", \"*\"] = Field(description=\"Whether is a sum or a multiplication.\")\n",
    "    result: str = Field(description=\"The final result/output.\")"
   ]
  },
  {
   "cell_type": "code",
   "execution_count": 10,
   "id": "c269d3ed",
   "metadata": {},
   "outputs": [],
   "source": [
    "import math\n",
    "\n",
    "def process_exercise_two(state: ExerciseTwoState) -> ExerciseTwoState:\n",
    "    \"\"\"Process the name, values and the operation type.\"\"\"\n",
    "\n",
    "    if  state.operation == \"+\":\n",
    "        state.result = f\"Hi {state.name}, your answer is {sum(state.values)}.\"\n",
    "        return state\n",
    "    elif state.operation == \"*\":\n",
    "        state.result = f\"Hi {state.name}, your answer is {math.prod(state.values)}.\"\n",
    "        return state"
   ]
  },
  {
   "cell_type": "code",
   "execution_count": 11,
   "id": "4b35050d",
   "metadata": {},
   "outputs": [],
   "source": [
    "graph = StateGraph(ExerciseTwoState)\n",
    "\n",
    "graph.add_node(\"main\", process_exercise_two)\n",
    "\n",
    "graph.set_entry_point(\"main\")\n",
    "graph.set_finish_point(\"main\")\n",
    "\n",
    "app = graph.compile()"
   ]
  },
  {
   "cell_type": "code",
   "execution_count": 17,
   "id": "2178cf5d",
   "metadata": {},
   "outputs": [
    {
     "name": "stdout",
     "output_type": "stream",
     "text": [
      "name='Roberto' values=[2, 4, 6, 8] operation='*' result='Hi Roberto, your answer is 384.'\n"
     ]
    }
   ],
   "source": [
    "res2 = app.invoke({\n",
    "    \"name\": \"Roberto\",\n",
    "    \"values\": [2, 4, 6 ,8],\n",
    "    \"operation\": \"*\",\n",
    "    \"result\": \"\"\n",
    "    })\n",
    "\n",
    "print(ExerciseTwoState(**res2))"
   ]
  },
  {
   "cell_type": "markdown",
   "id": "5c17b0d7",
   "metadata": {},
   "source": [
    "# Graph 3"
   ]
  },
  {
   "cell_type": "code",
   "execution_count": 2,
   "id": "114748e4",
   "metadata": {},
   "outputs": [],
   "source": [
    "from typing import TypedDict\n",
    "from langgraph.graph import StateGraph"
   ]
  },
  {
   "cell_type": "code",
   "execution_count": 3,
   "id": "b31bbe35",
   "metadata": {},
   "outputs": [],
   "source": [
    "class AgentState(TypedDict):\n",
    "    name: str\n",
    "    age: str\n",
    "    final: str"
   ]
  },
  {
   "cell_type": "code",
   "execution_count": 9,
   "id": "79a34d84",
   "metadata": {},
   "outputs": [],
   "source": [
    "def first_node(state: AgentState) -> AgentState:\n",
    "    \"\"\"This is the first node of our sequence\"\"\"\n",
    "\n",
    "    state[\"final\"] = f\"Hi {state[\"name\"]}! \"\n",
    "    return state\n",
    "\n",
    "def second_node(state: AgentState) -> AgentState:\n",
    "    \"\"\"This is the second node of our sequence\"\"\"\n",
    "\n",
    "    state[\"final\"] = state[\"final\"] + f\"You are {state[\"age\"]} years old!\"\n",
    "    return state"
   ]
  },
  {
   "cell_type": "code",
   "execution_count": 10,
   "id": "1d3c53e6",
   "metadata": {},
   "outputs": [],
   "source": [
    "graph = StateGraph(AgentState)\n",
    "\n",
    "graph.add_node(\"first_node\", first_node)\n",
    "graph.add_node(\"second_node\", second_node)\n",
    "\n",
    "graph.set_entry_point(\"first_node\")\n",
    "graph.add_edge(\"first_node\", \"second_node\")\n",
    "graph.set_finish_point(\"second_node\")\n",
    "\n",
    "app = graph.compile()"
   ]
  },
  {
   "cell_type": "code",
   "execution_count": 11,
   "id": "0c334a6a",
   "metadata": {},
   "outputs": [
    {
     "data": {
      "image/png": "[encoded data removed]",
      "text/plain": [
       "<IPython.core.display.Image object>"
      ]
     },
     "metadata": {},
     "output_type": "display_data"
    }
   ],
   "source": [
    "from IPython.display import Image, display\n",
    "display(Image(app.get_graph().draw_mermaid_png()))"
   ]
  },
  {
   "cell_type": "code",
   "execution_count": 12,
   "id": "2a476bd6",
   "metadata": {},
   "outputs": [
    {
     "name": "stdout",
     "output_type": "stream",
     "text": [
      "{'name': 'Charlie', 'age': 20, 'final': 'Hi Charlie! You are 20 years old!'}\n"
     ]
    }
   ],
   "source": [
    "result = app.invoke({\n",
    "    \"name\": \"Charlie\",\n",
    "    \"age\": 20\n",
    "})\n",
    "print(result)"
   ]
  },
  {
   "cell_type": "markdown",
   "id": "2977118e",
   "metadata": {},
   "source": [
    "# Exercise for Graph III\n"
   ]
  },
  {
   "cell_type": "code",
   "execution_count": 2,
   "id": "0fab8328",
   "metadata": {},
   "outputs": [],
   "source": [
    "from langgraph.graph import StateGraph\n",
    "from typing import TypedDict, List"
   ]
  },
  {
   "cell_type": "code",
   "execution_count": 3,
   "id": "64566e2e",
   "metadata": {},
   "outputs": [],
   "source": [
    "class ThirdAgentState(TypedDict):\n",
    "    name: str\n",
    "    age: int\n",
    "    skills: List[str]\n",
    "    final_result: str"
   ]
  },
  {
   "cell_type": "code",
   "execution_count": 4,
   "id": "366c8104",
   "metadata": {},
   "outputs": [],
   "source": [
    "def first_node(state: ThirdAgentState) -> ThirdAgentState:\n",
    "    \"\"\"This node will greet the user.\"\"\"\n",
    "    state[\"final_result\"] = f\"{state[\"name\"]}, welcome to the system! \"\n",
    "    return state\n",
    "\n",
    "def second_node(state: ThirdAgentState) -> ThirdAgentState:\n",
    "    \"\"\"This node will describe the user's age.\"\"\"\n",
    "    state[\"final_result\"] = state[\"final_result\"] + f\"You are {state[\"age\"]} years old! \"\n",
    "    return state\n",
    "\n",
    "def third_node(state: ThirdAgentState) -> ThirdAgentState:\n",
    "    \"\"\"This node will list the user's skills in a formatted string.\"\"\"\n",
    "    state[\"final_result\"] = state[\"final_result\"] + f\"You have skills in: {\", \".join(state[\"skills\"])}.\"\n",
    "    return state"
   ]
  },
  {
   "cell_type": "code",
   "execution_count": 5,
   "id": "0a8788cb",
   "metadata": {},
   "outputs": [],
   "source": [
    "graph = StateGraph(ThirdAgentState)\n",
    "\n",
    "graph.add_node(\"first_node\", first_node)\n",
    "graph.add_node(\"second_node\", second_node)\n",
    "graph.add_node(\"third_node\", third_node)\n",
    "\n",
    "graph.set_entry_point(\"first_node\")\n",
    "graph.add_edge(\"first_node\", \"second_node\")\n",
    "graph.add_edge(\"second_node\", \"third_node\")\n",
    "graph.set_finish_point(\"third_node\")\n",
    "\n",
    "app = graph.compile()"
   ]
  },
  {
   "cell_type": "code",
   "execution_count": 6,
   "id": "d3b88de7",
   "metadata": {},
   "outputs": [
    {
     "data": {
      "image/png": "[encoded data removed]",
      "text/plain": [
       "<IPython.core.display.Image object>"
      ]
     },
     "metadata": {},
     "output_type": "display_data"
    }
   ],
   "source": [
    "from IPython.display import Image, display\n",
    "display(Image(app.get_graph().draw_mermaid_png()))"
   ]
  },
  {
   "cell_type": "code",
   "execution_count": 7,
   "id": "9a839ae0",
   "metadata": {},
   "outputs": [
    {
     "name": "stdout",
     "output_type": "stream",
     "text": [
      "Rob, welcome to the system! You are 33 years old! You have skills in: python, LLMs.\n"
     ]
    }
   ],
   "source": [
    "res = app.invoke({\n",
    "    \"name\": \"Rob\",\n",
    "    \"age\": 33,\n",
    "    \"skills\": [\"python\", \"LLMs\"],\n",
    "    \"final_result\": \"\"\n",
    "})\n",
    "\n",
    "print(res[\"final_result\"])"
   ]
  },
  {
   "cell_type": "markdown",
   "id": "1a440712",
   "metadata": {},
   "source": [
    "# Graph 4 - Conditional Graph"
   ]
  },
  {
   "cell_type": "code",
   "execution_count": 8,
   "id": "a32152a6",
   "metadata": {},
   "outputs": [],
   "source": [
    "from typing import TypedDict\n",
    "from langgraph.graph import StateGraph, START, END"
   ]
  },
  {
   "cell_type": "code",
   "execution_count": 9,
   "id": "ddb6b00e",
   "metadata": {},
   "outputs": [],
   "source": [
    "class AgentState(TypedDict):\n",
    "    number1: int\n",
    "    operation: str\n",
    "    number2: int\n",
    "    finalNumber: int"
   ]
  },
  {
   "cell_type": "code",
   "execution_count": 10,
   "id": "dd52edbf",
   "metadata": {},
   "outputs": [],
   "source": [
    "def adder(state: AgentState) -> AgentState:\n",
    "    \"\"\"This node adds the 2 numbers.\"\"\"\n",
    "\n",
    "    state[\"finalNumber\"] = state[\"number1\"] + state[\"number2\"]\n",
    "    return state\n",
    "\n",
    "def substractor(state: AgentState) -> AgentState:\n",
    "    \"\"\"This node substracts the 2 numbers.\"\"\"\n",
    "\n",
    "    state[\"finalNumber\"] = state[\"number1\"] - state[\"number2\"]\n",
    "    return state\n",
    "\n",
    "def decide_next_node(state: AgentState) -> AgentState:\n",
    "    \"\"\"This node will select the next node of the graph.\"\"\"\n",
    "    if state[\"operation\"] == \"+\":\n",
    "        return \"addition_operation\"\n",
    "    elif state[\"operation\"] == \"-\":\n",
    "        return \"substraction_operation\"\n"
   ]
  },
  {
   "cell_type": "code",
   "execution_count": 12,
   "id": "b123fe98",
   "metadata": {},
   "outputs": [],
   "source": [
    "graph = StateGraph(AgentState)\n",
    "\n",
    "graph.add_node(\"add_node\", adder)\n",
    "graph.add_node(\"substract_node\", substractor)\n",
    "graph.add_node(\"router\", lambda state:state)\n",
    "\n",
    "graph.add_edge(START, \"router\")\n",
    "graph.add_conditional_edges(\n",
    "    \"router\",\n",
    "    decide_next_node,\n",
    "    {\n",
    "        \"addition_operattion\": \"add_node\",\n",
    "        \"substraction_operation\": \"substract_node\"\n",
    "    }\n",
    ")\n",
    "\n",
    "graph.add_edge(\"add_node\", END)\n",
    "graph.add_edge(\"substract_node\", END)\n",
    "\n",
    "app = graph.compile()"
   ]
  },
  {
   "cell_type": "code",
   "execution_count": 13,
   "id": "7498a930",
   "metadata": {},
   "outputs": [
    {
     "data": {
      "image/png": "[encoded data removed]",
      "text/plain": [
       "<IPython.core.display.Image object>"
      ]
     },
     "metadata": {},
     "output_type": "display_data"
    }
   ],
   "source": [
    "from IPython.display import Image, display\n",
    "display(Image(app.get_graph().draw_mermaid_png()))"
   ]
  },
  {
   "cell_type": "code",
   "execution_count": 14,
   "id": "2eeb70eb",
   "metadata": {},
   "outputs": [
    {
     "name": "stdout",
     "output_type": "stream",
     "text": [
      "{'number1': 10, 'operation': '-', 'number2': 3, 'finalNumber': 7}\n"
     ]
    }
   ],
   "source": [
    "res = app.invoke({\n",
    "    \"number1\": 10,\n",
    "    \"operation\": \"-\",\n",
    "    \"number2\": 3\n",
    "})\n",
    "print(res)"
   ]
  },
  {
   "cell_type": "markdown",
   "id": "6b1f1239",
   "metadata": {},
   "source": [
    "# Graph IV"
   ]
  },
  {
   "cell_type": "code",
   "execution_count": 1,
   "id": "6dc4ae5d",
   "metadata": {},
   "outputs": [],
   "source": [
    "from langgraph.graph import StateGraph, START, END\n",
    "from typing import TypedDict, List, Literal"
   ]
  },
  {
   "cell_type": "code",
   "execution_count": 2,
   "id": "533103f8",
   "metadata": {},
   "outputs": [],
   "source": [
    "class AgentState(TypedDict):\n",
    "    number1: int\n",
    "    number2: int\n",
    "    operation: Literal[\"+\", \"-\"]\n",
    "    finalNumber: int\n",
    "    number3: int\n",
    "    number4: int\n",
    "    operation2: Literal[\"+\", \"-\"]\n",
    "    finalNumber2: int"
   ]
  },
  {
   "cell_type": "code",
   "execution_count": 18,
   "id": "542b74eb",
   "metadata": {},
   "outputs": [],
   "source": [
    "def adder(state:AgentState) -> AgentState:\n",
    "    \"\"\"This node adds the 2 numbers\"\"\"\n",
    "    print(\"adder\")\n",
    "    state[\"finalNumber\"] = state[\"number1\"] + state[\"number2\"]\n",
    "    return state\n",
    "\n",
    "def subtractor(state:AgentState) -> AgentState:\n",
    "    \"\"\"This node subtracts the 2 numbers\"\"\"\n",
    "    print(\"subtractor\")\n",
    "    state[\"finalNumber\"] = state[\"number1\"] - state[\"number2\"]\n",
    "    return state\n",
    "\n",
    "def decide_next_node(state:AgentState) -> AgentState:\n",
    "    \"\"\"This node will select the next phase\"\"\"\n",
    "    if state[\"operation\"] == \"+\":\n",
    "        return \"addition_operation\"\n",
    "    \n",
    "    elif state[\"operation\"] == \"-\":\n",
    "        print(\"SUB 1\")\n",
    "        return \"subtraction_operation\"   \n",
    "\n",
    "\n",
    "def adder2(state:AgentState) -> AgentState:\n",
    "    \"\"\"This node adds the 2 numbers\"\"\"\n",
    "    print(\"adder1\")\n",
    "    state[\"finalNumber2\"] = state[\"number3\"] + state[\"number4\"]\n",
    "    print(state[\"finalNumber2\"])\n",
    "\n",
    "    return state\n",
    "\n",
    "def subtractor2(state:AgentState) -> AgentState:\n",
    "    \"\"\"This node subtracts the 2 numbers\"\"\"\n",
    "    print(\"subtractor1\")\n",
    "    state[\"finalNumber2\"] = state[\"number3\"] - state[\"number4\"]\n",
    "    print(state[\"finalNumber2\"])\n",
    "    return state\n",
    "\n",
    "def decide_next_node1(state:AgentState) -> AgentState:\n",
    "    \"\"\"This node will select the next phase\"\"\"\n",
    "    if state[\"operation2\"] == \"+\":\n",
    "        print(\"ADD1\")\n",
    "        return \"addition_operation2\"\n",
    "    \n",
    "    elif state[\"operation2\"] == \"-\":\n",
    "        return \"subtraction_operation2\"   "
   ]
  },
  {
   "cell_type": "code",
   "execution_count": 19,
   "id": "fc066f51",
   "metadata": {},
   "outputs": [],
   "source": [
    "graph = StateGraph(AgentState)\n",
    "\n",
    "graph.add_node(\"add_node\", adder)\n",
    "graph.add_node(\"subtract_node\", substractor)\n",
    "graph.add_node(\"router\", lambda state:state) \n",
    "\n",
    "graph.add_node(\"add_node2\", adder2)\n",
    "graph.add_node(\"subtract_node2\", substractor2)\n",
    "graph.add_node(\"router2\", lambda state:state) \n",
    "\n",
    "\n",
    "graph.add_edge(START, \"router\")\n",
    "\n",
    "graph.add_conditional_edges(\n",
    "    \"router\", \n",
    "    decide_next_node,\n",
    "    {\n",
    "        # Edge: Node format\n",
    "        \"addition_operation\": \"add_node\",\n",
    "        \"subtraction_operation\": \"subtract_node\"\n",
    "    }\n",
    ")\n",
    "\n",
    "\n",
    "graph.add_edge(\"add_node\", \"router2\")\n",
    "graph.add_edge(\"subtract_node\", \"router2\")\n",
    "\n",
    "graph.add_conditional_edges(\n",
    "    \"router2\", \n",
    "    decide_next_node1,\n",
    "    {\n",
    "        # Edge: Node format\n",
    "        \"addition_operation2\": \"add_node2\",\n",
    "        \"subtraction_operation2\": \"subtract_node2\"\n",
    "    }\n",
    ")\n",
    "\n",
    "\n",
    "graph.add_edge(\"add_node2\", END)\n",
    "graph.add_edge(\"subtract_node2\", END)\n",
    "\n",
    "app = graph.compile()"
   ]
  },
  {
   "cell_type": "code",
   "execution_count": 20,
   "id": "ee2ff818",
   "metadata": {},
   "outputs": [
    {
     "data": {
      "image/png": "[encoded data removed]",
      "text/plain": [
       "<IPython.core.display.Image object>"
      ]
     },
     "metadata": {},
     "output_type": "display_data"
    }
   ],
   "source": [
    "from IPython.display import Image, display\n",
    "display(Image(app.get_graph().draw_mermaid_png()))"
   ]
  },
  {
   "cell_type": "code",
   "execution_count": 21,
   "id": "bf5964e0",
   "metadata": {},
   "outputs": [],
   "source": [
    "initial_state = AgentState(number1 = 10, operation=\"-\", number2 = 5, number3 = 7, number4=2, operation2=\"+\", finalNumber= 0, finalNumber2 = 0)"
   ]
  },
  {
   "cell_type": "code",
   "execution_count": 22,
   "id": "63b0e708",
   "metadata": {},
   "outputs": [
    {
     "name": "stdout",
     "output_type": "stream",
     "text": [
      "SUB 1\n",
      "ADD1\n",
      "adder1\n",
      "9\n",
      "{'number1': 10, 'number2': 5, 'operation': '-', 'finalNumber': 5, 'number3': 7, 'number4': 2, 'operation2': '+', 'finalNumber2': 9}\n"
     ]
    }
   ],
   "source": [
    "print(app.invoke(initial_state))"
   ]
  },
  {
   "cell_type": "markdown",
   "id": "bfb7d10c",
   "metadata": {},
   "source": [
    "# Graph V"
   ]
  },
  {
   "cell_type": "code",
   "execution_count": null,
   "id": "101b3b39",
   "metadata": {},
   "outputs": [],
   "source": [
    "from langgraph.graph import StateGraph, END\n",
    "import random\n",
    "from typing import Dict, List, TypedDict"
   ]
  }
 ],
 "metadata": {
  "kernelspec": {
   "display_name": "venv",
   "language": "python",
   "name": "python3"
  },
  "language_info": {
   "codemirror_mode": {
    "name": "ipython",
    "version": 3
   },
   "file_extension": ".py",
   "mimetype": "text/x-python",
   "name": "python",
   "nbconvert_exporter": "python",
   "pygments_lexer": "ipython3",
   "version": "3.12.6"
  }
 },
 "nbformat": 4,
 "nbformat_minor": 5
}
